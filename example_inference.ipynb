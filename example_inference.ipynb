{
 "cells": [
  {
   "cell_type": "code",
   "execution_count": 1,
   "id": "433eee62-c1f4-4569-a888-7909ed4cd35e",
   "metadata": {},
   "outputs": [],
   "source": [
    "import os\n",
    "import mir_eval\n",
    "import librosa\n",
    "import librosa.display\n",
    "import IPython.display as ipd\n",
    "import numpy as np\n",
    "import matplotlib.pyplot as plt\n",
    "from ipywidgets import IntProgress\n",
    "import pickle\n",
    "from beat_track import beatTracker, Style\n",
    "from evaluate import evaluate\n",
    "import beat_track"
   ]
  },
  {
   "cell_type": "code",
   "execution_count": 4,
   "id": "d077beea-76c2-4f11-872b-4c9e9a33b37b",
   "metadata": {},
   "outputs": [],
   "source": [
    "INPUT_FILE = \"./Albums-Fire-14.wav\"\n",
    "STYLE = Style.CHACHA #optional"
   ]
  },
  {
   "cell_type": "code",
   "execution_count": 5,
   "id": "4a18fe23-7afb-4029-b095-3a1fd9ba2a6f",
   "metadata": {},
   "outputs": [],
   "source": [
    "est_beats,_ = beatTracker(INPUT_FILE, danceStyle=STYLE)"
   ]
  },
  {
   "cell_type": "code",
   "execution_count": 6,
   "id": "3dbac4e8-3a00-46e3-9c46-e1e1554e27e8",
   "metadata": {},
   "outputs": [
    {
     "name": "stdout",
     "output_type": "stream",
     "text": [
      "[ 0.    0.74  1.22  1.7   2.2   2.68  3.17  3.64  4.14  4.64  5.12  5.59\n",
      "  6.07  6.56  7.05  7.53  8.02  8.5   9.01  9.48  9.96 10.43 10.93 11.4\n",
      " 11.9  12.39 12.88 13.35 13.83 14.32 14.82 15.3  15.79 16.28 16.77 17.23\n",
      " 17.72 18.21 18.71 19.18 19.66 20.14 20.63 21.11 21.6  22.09 22.57 23.05\n",
      " 23.55 24.04 24.53 25.   25.48 25.97 26.46 26.94 27.43 27.92 28.41 28.9 ]\n"
     ]
    }
   ],
   "source": [
    "print(est_beats)"
   ]
  },
  {
   "cell_type": "code",
   "execution_count": null,
   "id": "28fab0f8-146c-4d31-a7d6-e6ba76c5af06",
   "metadata": {},
   "outputs": [],
   "source": []
  },
  {
   "cell_type": "code",
   "execution_count": null,
   "id": "197460cf-d030-4752-a99f-d2f9dc427da6",
   "metadata": {},
   "outputs": [],
   "source": []
  }
 ],
 "metadata": {
  "kernelspec": {
   "display_name": "Python 3 (ipykernel)",
   "language": "python",
   "name": "python3"
  },
  "language_info": {
   "codemirror_mode": {
    "name": "ipython",
    "version": 3
   },
   "file_extension": ".py",
   "mimetype": "text/x-python",
   "name": "python",
   "nbconvert_exporter": "python",
   "pygments_lexer": "ipython3",
   "version": "3.7.0"
  }
 },
 "nbformat": 4,
 "nbformat_minor": 5
}
